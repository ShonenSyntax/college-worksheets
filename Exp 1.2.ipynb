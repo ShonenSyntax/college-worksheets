{
 "cells": [
  {
   "cell_type": "code",
   "execution_count": 6,
   "id": "bfc83c3d",
   "metadata": {},
   "outputs": [
    {
     "name": "stdout",
     "output_type": "stream",
     "text": [
      "      Name  Age  Score       City\n",
      "0    Alice   25   88.2      Delhi\n",
      "1      Bob   30   92.6     Mumbai\n",
      "2  Charlie   35   95.9      Delhi\n",
      "3    David   27   70.4  Bangalore\n",
      "4      Eva   28   85.5     Mumbai\n"
     ]
    }
   ],
   "source": [
    "import pandas as pd\n",
    "data = {\n",
    "    'Name': ['Alice', 'Bob', 'Charlie', 'David', 'Eva'],\n",
    "    'Age': [25, 30, 35, 27, 28],\n",
    "    'Score': [88.2, 92.6, 95.9, 70.4, 85.5],\n",
    "    'City': ['Delhi', 'Mumbai', 'Delhi', 'Bangalore', 'Mumbai']\n",
    "}\n",
    "df = pd.DataFrame(data)\n",
    "print(df)"
   ]
  },
  {
   "cell_type": "code",
   "execution_count": 7,
   "id": "a42d8756",
   "metadata": {},
   "outputs": [
    {
     "name": "stdout",
     "output_type": "stream",
     "text": [
      "<class 'pandas.core.frame.DataFrame'>\n",
      "RangeIndex: 5 entries, 0 to 4\n",
      "Data columns (total 4 columns):\n",
      " #   Column  Non-Null Count  Dtype  \n",
      "---  ------  --------------  -----  \n",
      " 0   Name    5 non-null      object \n",
      " 1   Age     5 non-null      int64  \n",
      " 2   Score   5 non-null      float64\n",
      " 3   City    5 non-null      object \n",
      "dtypes: float64(1), int64(1), object(2)\n",
      "memory usage: 292.0+ bytes\n",
      "None\n"
     ]
    }
   ],
   "source": [
    "#Display the Dataframe Info\n",
    "print(df.info())"
   ]
  },
  {
   "cell_type": "code",
   "execution_count": 8,
   "id": "8a305b62",
   "metadata": {},
   "outputs": [
    {
     "name": "stdout",
     "output_type": "stream",
     "text": [
      "             Age      Score\n",
      "count   5.000000   5.000000\n",
      "mean   29.000000  86.520000\n",
      "std     3.807887   9.857332\n",
      "min    25.000000  70.400000\n",
      "25%    27.000000  85.500000\n",
      "50%    28.000000  88.200000\n",
      "75%    30.000000  92.600000\n",
      "max    35.000000  95.900000\n"
     ]
    }
   ],
   "source": [
    "#Summary Statistics\n",
    "print(df.describe())"
   ]
  },
  {
   "cell_type": "code",
   "execution_count": 13,
   "id": "b560e0c6",
   "metadata": {},
   "outputs": [
    {
     "name": "stdout",
     "output_type": "stream",
     "text": [
      "Name     0\n",
      "Age      0\n",
      "Score    0\n",
      "City     0\n",
      "dtype: int64\n"
     ]
    }
   ],
   "source": [
    "#Check for missing values\n",
    "print(df.isnull().sum())"
   ]
  },
  {
   "cell_type": "code",
   "execution_count": 15,
   "id": "484c3273",
   "metadata": {},
   "outputs": [
    {
     "name": "stdout",
     "output_type": "stream",
     "text": [
      "0    1.34\n",
      "1    7.12\n",
      "2    2.89\n",
      "dtype: float64\n"
     ]
    }
   ],
   "source": [
    "#Simple Panda Series\n",
    "x = [1.34, 7.12, 2.89]\n",
    "myseries = pd.Series(x)\n",
    "print(myseries)"
   ]
  },
  {
   "cell_type": "code",
   "execution_count": 18,
   "id": "42ed7613",
   "metadata": {},
   "outputs": [
    {
     "name": "stdout",
     "output_type": "stream",
     "text": [
      "Array: [1 2 3 4 5 6 7 8]\n"
     ]
    }
   ],
   "source": [
    "import numpy as np\n",
    "arr = np.array([1,2,3,4,5,6,7,8])\n",
    "print('Array:',arr)"
   ]
  },
  {
   "cell_type": "code",
   "execution_count": 22,
   "id": "3a6caaa5",
   "metadata": {},
   "outputs": [
    {
     "name": "stdout",
     "output_type": "stream",
     "text": [
      "Mean: 529.3636363636364\n",
      "Median: 44.0\n",
      "Average: 529.3636363636364\n",
      "Standard Deviation: 1296.5221501965993\n"
     ]
    }
   ],
   "source": [
    "#Basic Statistical Analysis\n",
    "data = np.array([1, 20, 3, 44, 59, 34, 67 ,11, 1001, 49, 4534])\n",
    "print('Mean:',np.mean(data))\n",
    "print('Median:',np.median(data))\n",
    "print('Average:',np.average(data)) #mean and avg mean the same thing\n",
    "print('Standard Deviation:',np.std(data))"
   ]
  },
  {
   "cell_type": "code",
   "execution_count": 27,
   "id": "8fbc1e75",
   "metadata": {},
   "outputs": [
    {
     "name": "stdout",
     "output_type": "stream",
     "text": [
      "Correlation Coefficient: \n",
      " [[ 1.         -0.39735971]\n",
      " [-0.39735971  1.        ]]\n"
     ]
    }
   ],
   "source": [
    "#Correaltion Coefficient\n",
    "x = np.array([1, 2, 3])\n",
    "y = np.array([-10, 20, -30])\n",
    "correlation = np.corrcoef(x,y)\n",
    "print(\"Correlation Coefficient: \\n\",correlation)\n"
   ]
  },
  {
   "cell_type": "code",
   "execution_count": 44,
   "id": "81cb99a1",
   "metadata": {},
   "outputs": [
    {
     "name": "stdout",
     "output_type": "stream",
     "text": [
      "[[ 0  1  2  3]\n",
      " [ 4  5  6  7]\n",
      " [ 8  9 10 11]\n",
      " [12 13 14 15]\n",
      " [16 17 18 19]\n",
      " [20 21 22 23]]\n"
     ]
    }
   ],
   "source": [
    "#Reshaping Arrays \n",
    "data = np.arange(24)\n",
    "#print(data)\n",
    "r = data.reshape(12,2)\n",
    "#print(r)\n",
    "r2 = data.reshape(6,4)\n",
    "print(r2)"
   ]
  },
  {
   "cell_type": "code",
   "execution_count": 47,
   "id": "c0074662",
   "metadata": {},
   "outputs": [
    {
     "name": "stdout",
     "output_type": "stream",
     "text": [
      "Sorted Array: [  9  12  15  26  31  38  46 342 787]\n"
     ]
    }
   ],
   "source": [
    "#Sorting Arrays\n",
    "d1 = [12,342,31,46,15,26,787,38,9]\n",
    "arr = np.array(d1)\n",
    "sorted_d1 = np.sort(arr)\n",
    "print(\"Sorted Array:\",sorted_d1)\n"
   ]
  },
  {
   "cell_type": "code",
   "execution_count": null,
   "id": "0890a8c6",
   "metadata": {},
   "outputs": [],
   "source": []
  }
 ],
 "metadata": {
  "kernelspec": {
   "display_name": "Python 3",
   "language": "python",
   "name": "python3"
  },
  "language_info": {
   "codemirror_mode": {
    "name": "ipython",
    "version": 3
   },
   "file_extension": ".py",
   "mimetype": "text/x-python",
   "name": "python",
   "nbconvert_exporter": "python",
   "pygments_lexer": "ipython3",
   "version": "3.13.1"
  }
 },
 "nbformat": 4,
 "nbformat_minor": 5
}
